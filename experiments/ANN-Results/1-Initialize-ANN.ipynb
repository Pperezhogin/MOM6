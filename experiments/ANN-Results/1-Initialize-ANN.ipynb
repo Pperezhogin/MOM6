{
 "cells": [
  {
   "cell_type": "code",
   "execution_count": 396,
   "metadata": {},
   "outputs": [],
   "source": [
    "import torch\n",
    "import torch.nn as nn\n",
    "import numpy as np"
   ]
  },
  {
   "cell_type": "markdown",
   "metadata": {},
   "source": [
    "# Studying memory layout in pytorch (and numpy)"
   ]
  },
  {
   "cell_type": "markdown",
   "metadata": {},
   "source": [
    "## Create simple linear layer and test vectors"
   ]
  },
  {
   "cell_type": "code",
   "execution_count": 59,
   "metadata": {},
   "outputs": [],
   "source": [
    "layer = nn.Linear(3,3)"
   ]
  },
  {
   "cell_type": "code",
   "execution_count": 60,
   "metadata": {},
   "outputs": [],
   "source": [
    "x0 = torch.randn(3)"
   ]
  },
  {
   "cell_type": "code",
   "execution_count": 61,
   "metadata": {},
   "outputs": [],
   "source": [
    "y0 = layer(x0)"
   ]
  },
  {
   "cell_type": "markdown",
   "metadata": {},
   "source": [
    "## Reproduce layer with Matrix multiplication"
   ]
  },
  {
   "cell_type": "code",
   "execution_count": 66,
   "metadata": {},
   "outputs": [
    {
     "data": {
      "text/plain": [
       "tensor([[-0.0305,  0.0748, -0.2738],\n",
       "        [-0.1138, -0.4028,  0.1255],\n",
       "        [ 0.5401,  0.4337,  0.1585]])"
      ]
     },
     "execution_count": 66,
     "metadata": {},
     "output_type": "execute_result"
    }
   ],
   "source": [
    "layer.weight.data"
   ]
  },
  {
   "cell_type": "code",
   "execution_count": 71,
   "metadata": {},
   "outputs": [
    {
     "data": {
      "text/plain": [
       "tensor([0., 0., 0.], grad_fn=<SubBackward0>)"
      ]
     },
     "execution_count": 71,
     "metadata": {},
     "output_type": "execute_result"
    }
   ],
   "source": [
    "layer.weight.data@x0+layer.bias.data-y0"
   ]
  },
  {
   "cell_type": "markdown",
   "metadata": {},
   "source": [
    "## Matrix is given in row-major format"
   ]
  },
  {
   "cell_type": "code",
   "execution_count": 72,
   "metadata": {},
   "outputs": [
    {
     "data": {
      "text/plain": [
       "tensor([-0.0305,  0.0748, -0.2738, -0.1138, -0.4028,  0.1255,  0.5401,  0.4337,\n",
       "         0.1585])"
      ]
     },
     "execution_count": 72,
     "metadata": {},
     "output_type": "execute_result"
    }
   ],
   "source": [
    "layer.weight.data.reshape(-1)"
   ]
  },
  {
   "cell_type": "markdown",
   "metadata": {},
   "source": [
    "## The fast index is the rightmost"
   ]
  },
  {
   "cell_type": "code",
   "execution_count": 74,
   "metadata": {},
   "outputs": [
    {
     "data": {
      "text/plain": [
       "tensor([-0.0305,  0.0748, -0.2738])"
      ]
     },
     "execution_count": 74,
     "metadata": {},
     "output_type": "execute_result"
    }
   ],
   "source": [
    "layer.weight.data[0,:]"
   ]
  },
  {
   "cell_type": "markdown",
   "metadata": {},
   "source": [
    "## Matrix multiplication is performed along fast index"
   ]
  },
  {
   "cell_type": "code",
   "execution_count": 78,
   "metadata": {},
   "outputs": [
    {
     "data": {
      "text/plain": [
       "tensor(0.4191)"
      ]
     },
     "execution_count": 78,
     "metadata": {},
     "output_type": "execute_result"
    }
   ],
   "source": [
    "sum(layer.weight.data[0,:] * x0) + layer.bias.data[0]"
   ]
  },
  {
   "cell_type": "code",
   "execution_count": 80,
   "metadata": {},
   "outputs": [
    {
     "data": {
      "text/plain": [
       "tensor(0.4191, grad_fn=<SelectBackward0>)"
      ]
     },
     "execution_count": 80,
     "metadata": {},
     "output_type": "execute_result"
    }
   ],
   "source": [
    "y0[0]"
   ]
  },
  {
   "cell_type": "markdown",
   "metadata": {},
   "source": [
    "# Prepare ANN for MOM6"
   ]
  },
  {
   "cell_type": "code",
   "execution_count": 210,
   "metadata": {},
   "outputs": [],
   "source": [
    "from torch.nn import functional as F\n",
    "class ANN(nn.Module):\n",
    "    def __init__(self, layer_sizes=[3, 17, 27, 5]):\n",
    "        super().__init__()\n",
    "        \n",
    "        self.layer_sizes = layer_sizes\n",
    "        \n",
    "\n",
    "        layers = []\n",
    "        for i in range(len(layer_sizes)-1):\n",
    "            layers.append(nn.Linear(layer_sizes[i], layer_sizes[i+1]))\n",
    "        \n",
    "        self.layers = layers\n",
    "    \n",
    "    def forward(self, x):\n",
    "        for i in range(len(self.layers)):\n",
    "            x = self.layers[i](x)\n",
    "            if i < len(self.layers)-1:\n",
    "                x = F.relu(x)\n",
    "        return x"
   ]
  },
  {
   "cell_type": "markdown",
   "metadata": {},
   "source": [
    "# Export neural network\n",
    "The netcdf should contains the following information:\n",
    "* Integer (int32) 'num_layers'\n",
    "* Integer (int32) array 'layer_sizes'\n",
    "* Float (float32 or float64) array input_norms\n",
    "* Float array output_norms\n",
    "* Every layer is matrix A0 (in column-major order) and bias b0, where 0 is the layer number\n",
    "Optionally, for testing, there should be one sample prediction:\n",
    "* Float array x_test with inputs\n",
    "* Float y_test with outputs"
   ]
  },
  {
   "cell_type": "code",
   "execution_count": 388,
   "metadata": {},
   "outputs": [],
   "source": [
    "import os\n",
    "def export_ANN(ann, input_norms, output_norms, filename='ANN_test.nc'):\n",
    "    ds = xr.Dataset()\n",
    "    ds['num_layers'] = len(ann.layer_sizes)\n",
    "    ds['layer_sizes'] = xr.DataArray(ann.layer_sizes, dims=['nlayers'])\n",
    "    ds = ds.astype('int32') # MOM6 reads only int32 numbers\n",
    "    \n",
    "    for i in range(len(ann.layers)):\n",
    "        # Naming convention for weights and dimensions\n",
    "        matrix = f'A{i}'\n",
    "        bias = f'b{i}'\n",
    "        ncol = f'ncol{i}'\n",
    "        nrow = f'nrow{i}'\n",
    "        layer = ann.layers[i]\n",
    "        \n",
    "        # Transposed, because torch is row-major, while Fortran is column-major\n",
    "        ds[matrix] = xr.DataArray(layer.weight.data.T, dims=[ncol, nrow])\n",
    "        ds[bias] = xr.DataArray(layer.bias.data, dims=[nrow])\n",
    "    \n",
    "    # Save true answer for random vector for testing\n",
    "    x0 = torch.randn(ann.layer_sizes[0])\n",
    "    y0 = ann(x0 / input_norms) * output_norms\n",
    "    nrow = f'nrow{len(ann.layers)-1}'\n",
    "    \n",
    "    ds['x_test'] = xr.DataArray(x0.data, dims=['ncol0'])\n",
    "    ds['y_test'] = xr.DataArray(y0.data, dims=[nrow])\n",
    "    \n",
    "    ds['input_norms']  = xr.DataArray(input_norms.data, dims=['ncol0'])\n",
    "    ds['output_norms'] = xr.DataArray(output_norms.data, dims=[nrow])\n",
    "\n",
    "    \n",
    "    print('x_test = ', ds['x_test'].data)\n",
    "    print('y_test = ', ds['y_test'].data)\n",
    "    \n",
    "    if os.path.exists(filename):\n",
    "        print(f'Rewrite {filename} ?')\n",
    "        input()\n",
    "        os.system(f'rm -f {filename}')\n",
    "    \n",
    "    ds.to_netcdf(filename)"
   ]
  },
  {
   "cell_type": "markdown",
   "metadata": {},
   "source": [
    "# Generate ANN with random weights for testing"
   ]
  },
  {
   "cell_type": "code",
   "execution_count": 389,
   "metadata": {},
   "outputs": [],
   "source": [
    "ann = ANN()\n",
    "input_norms = torch.rand(3)\n",
    "output_norms = torch.rand(5)"
   ]
  },
  {
   "cell_type": "code",
   "execution_count": 390,
   "metadata": {},
   "outputs": [
    {
     "name": "stdout",
     "output_type": "stream",
     "text": [
      "x_test =  [0.28201845 0.1450909  1.1256554 ]\n",
      "y_test =  [-0.01058591  0.26826918 -0.12749074  0.28866747  0.30501342]\n",
      "Rewrite /scratch/pp2681/mom6/regression_tests/R4/ANN_test.nc ?\n",
      "\n"
     ]
    }
   ],
   "source": [
    "export_ANN(ann, input_norms, output_norms, '/scratch/pp2681/mom6/regression_tests/R4/ANN_test.nc')"
   ]
  },
  {
   "cell_type": "code",
   "execution_count": 391,
   "metadata": {},
   "outputs": [
    {
     "data": {
      "text/html": [
       "<div><svg style=\"position: absolute; width: 0; height: 0; overflow: hidden\">\n",
       "<defs>\n",
       "<symbol id=\"icon-database\" viewBox=\"0 0 32 32\">\n",
       "<path d=\"M16 0c-8.837 0-16 2.239-16 5v4c0 2.761 7.163 5 16 5s16-2.239 16-5v-4c0-2.761-7.163-5-16-5z\"></path>\n",
       "<path d=\"M16 17c-8.837 0-16-2.239-16-5v6c0 2.761 7.163 5 16 5s16-2.239 16-5v-6c0 2.761-7.163 5-16 5z\"></path>\n",
       "<path d=\"M16 26c-8.837 0-16-2.239-16-5v6c0 2.761 7.163 5 16 5s16-2.239 16-5v-6c0 2.761-7.163 5-16 5z\"></path>\n",
       "</symbol>\n",
       "<symbol id=\"icon-file-text2\" viewBox=\"0 0 32 32\">\n",
       "<path d=\"M28.681 7.159c-0.694-0.947-1.662-2.053-2.724-3.116s-2.169-2.030-3.116-2.724c-1.612-1.182-2.393-1.319-2.841-1.319h-15.5c-1.378 0-2.5 1.121-2.5 2.5v27c0 1.378 1.122 2.5 2.5 2.5h23c1.378 0 2.5-1.122 2.5-2.5v-19.5c0-0.448-0.137-1.23-1.319-2.841zM24.543 5.457c0.959 0.959 1.712 1.825 2.268 2.543h-4.811v-4.811c0.718 0.556 1.584 1.309 2.543 2.268zM28 29.5c0 0.271-0.229 0.5-0.5 0.5h-23c-0.271 0-0.5-0.229-0.5-0.5v-27c0-0.271 0.229-0.5 0.5-0.5 0 0 15.499-0 15.5 0v7c0 0.552 0.448 1 1 1h7v19.5z\"></path>\n",
       "<path d=\"M23 26h-14c-0.552 0-1-0.448-1-1s0.448-1 1-1h14c0.552 0 1 0.448 1 1s-0.448 1-1 1z\"></path>\n",
       "<path d=\"M23 22h-14c-0.552 0-1-0.448-1-1s0.448-1 1-1h14c0.552 0 1 0.448 1 1s-0.448 1-1 1z\"></path>\n",
       "<path d=\"M23 18h-14c-0.552 0-1-0.448-1-1s0.448-1 1-1h14c0.552 0 1 0.448 1 1s-0.448 1-1 1z\"></path>\n",
       "</symbol>\n",
       "</defs>\n",
       "</svg>\n",
       "<style>/* CSS stylesheet for displaying xarray objects in jupyterlab.\n",
       " *\n",
       " */\n",
       "\n",
       ":root {\n",
       "  --xr-font-color0: var(--jp-content-font-color0, rgba(0, 0, 0, 1));\n",
       "  --xr-font-color2: var(--jp-content-font-color2, rgba(0, 0, 0, 0.54));\n",
       "  --xr-font-color3: var(--jp-content-font-color3, rgba(0, 0, 0, 0.38));\n",
       "  --xr-border-color: var(--jp-border-color2, #e0e0e0);\n",
       "  --xr-disabled-color: var(--jp-layout-color3, #bdbdbd);\n",
       "  --xr-background-color: var(--jp-layout-color0, white);\n",
       "  --xr-background-color-row-even: var(--jp-layout-color1, white);\n",
       "  --xr-background-color-row-odd: var(--jp-layout-color2, #eeeeee);\n",
       "}\n",
       "\n",
       "html[theme=dark],\n",
       "body[data-theme=dark],\n",
       "body.vscode-dark {\n",
       "  --xr-font-color0: rgba(255, 255, 255, 1);\n",
       "  --xr-font-color2: rgba(255, 255, 255, 0.54);\n",
       "  --xr-font-color3: rgba(255, 255, 255, 0.38);\n",
       "  --xr-border-color: #1F1F1F;\n",
       "  --xr-disabled-color: #515151;\n",
       "  --xr-background-color: #111111;\n",
       "  --xr-background-color-row-even: #111111;\n",
       "  --xr-background-color-row-odd: #313131;\n",
       "}\n",
       "\n",
       ".xr-wrap {\n",
       "  display: block !important;\n",
       "  min-width: 300px;\n",
       "  max-width: 700px;\n",
       "}\n",
       "\n",
       ".xr-text-repr-fallback {\n",
       "  /* fallback to plain text repr when CSS is not injected (untrusted notebook) */\n",
       "  display: none;\n",
       "}\n",
       "\n",
       ".xr-header {\n",
       "  padding-top: 6px;\n",
       "  padding-bottom: 6px;\n",
       "  margin-bottom: 4px;\n",
       "  border-bottom: solid 1px var(--xr-border-color);\n",
       "}\n",
       "\n",
       ".xr-header > div,\n",
       ".xr-header > ul {\n",
       "  display: inline;\n",
       "  margin-top: 0;\n",
       "  margin-bottom: 0;\n",
       "}\n",
       "\n",
       ".xr-obj-type,\n",
       ".xr-array-name {\n",
       "  margin-left: 2px;\n",
       "  margin-right: 10px;\n",
       "}\n",
       "\n",
       ".xr-obj-type {\n",
       "  color: var(--xr-font-color2);\n",
       "}\n",
       "\n",
       ".xr-sections {\n",
       "  padding-left: 0 !important;\n",
       "  display: grid;\n",
       "  grid-template-columns: 150px auto auto 1fr 20px 20px;\n",
       "}\n",
       "\n",
       ".xr-section-item {\n",
       "  display: contents;\n",
       "}\n",
       "\n",
       ".xr-section-item input {\n",
       "  display: none;\n",
       "}\n",
       "\n",
       ".xr-section-item input + label {\n",
       "  color: var(--xr-disabled-color);\n",
       "}\n",
       "\n",
       ".xr-section-item input:enabled + label {\n",
       "  cursor: pointer;\n",
       "  color: var(--xr-font-color2);\n",
       "}\n",
       "\n",
       ".xr-section-item input:enabled + label:hover {\n",
       "  color: var(--xr-font-color0);\n",
       "}\n",
       "\n",
       ".xr-section-summary {\n",
       "  grid-column: 1;\n",
       "  color: var(--xr-font-color2);\n",
       "  font-weight: 500;\n",
       "}\n",
       "\n",
       ".xr-section-summary > span {\n",
       "  display: inline-block;\n",
       "  padding-left: 0.5em;\n",
       "}\n",
       "\n",
       ".xr-section-summary-in:disabled + label {\n",
       "  color: var(--xr-font-color2);\n",
       "}\n",
       "\n",
       ".xr-section-summary-in + label:before {\n",
       "  display: inline-block;\n",
       "  content: '►';\n",
       "  font-size: 11px;\n",
       "  width: 15px;\n",
       "  text-align: center;\n",
       "}\n",
       "\n",
       ".xr-section-summary-in:disabled + label:before {\n",
       "  color: var(--xr-disabled-color);\n",
       "}\n",
       "\n",
       ".xr-section-summary-in:checked + label:before {\n",
       "  content: '▼';\n",
       "}\n",
       "\n",
       ".xr-section-summary-in:checked + label > span {\n",
       "  display: none;\n",
       "}\n",
       "\n",
       ".xr-section-summary,\n",
       ".xr-section-inline-details {\n",
       "  padding-top: 4px;\n",
       "  padding-bottom: 4px;\n",
       "}\n",
       "\n",
       ".xr-section-inline-details {\n",
       "  grid-column: 2 / -1;\n",
       "}\n",
       "\n",
       ".xr-section-details {\n",
       "  display: none;\n",
       "  grid-column: 1 / -1;\n",
       "  margin-bottom: 5px;\n",
       "}\n",
       "\n",
       ".xr-section-summary-in:checked ~ .xr-section-details {\n",
       "  display: contents;\n",
       "}\n",
       "\n",
       ".xr-array-wrap {\n",
       "  grid-column: 1 / -1;\n",
       "  display: grid;\n",
       "  grid-template-columns: 20px auto;\n",
       "}\n",
       "\n",
       ".xr-array-wrap > label {\n",
       "  grid-column: 1;\n",
       "  vertical-align: top;\n",
       "}\n",
       "\n",
       ".xr-preview {\n",
       "  color: var(--xr-font-color3);\n",
       "}\n",
       "\n",
       ".xr-array-preview,\n",
       ".xr-array-data {\n",
       "  padding: 0 5px !important;\n",
       "  grid-column: 2;\n",
       "}\n",
       "\n",
       ".xr-array-data,\n",
       ".xr-array-in:checked ~ .xr-array-preview {\n",
       "  display: none;\n",
       "}\n",
       "\n",
       ".xr-array-in:checked ~ .xr-array-data,\n",
       ".xr-array-preview {\n",
       "  display: inline-block;\n",
       "}\n",
       "\n",
       ".xr-dim-list {\n",
       "  display: inline-block !important;\n",
       "  list-style: none;\n",
       "  padding: 0 !important;\n",
       "  margin: 0;\n",
       "}\n",
       "\n",
       ".xr-dim-list li {\n",
       "  display: inline-block;\n",
       "  padding: 0;\n",
       "  margin: 0;\n",
       "}\n",
       "\n",
       ".xr-dim-list:before {\n",
       "  content: '(';\n",
       "}\n",
       "\n",
       ".xr-dim-list:after {\n",
       "  content: ')';\n",
       "}\n",
       "\n",
       ".xr-dim-list li:not(:last-child):after {\n",
       "  content: ',';\n",
       "  padding-right: 5px;\n",
       "}\n",
       "\n",
       ".xr-has-index {\n",
       "  font-weight: bold;\n",
       "}\n",
       "\n",
       ".xr-var-list,\n",
       ".xr-var-item {\n",
       "  display: contents;\n",
       "}\n",
       "\n",
       ".xr-var-item > div,\n",
       ".xr-var-item label,\n",
       ".xr-var-item > .xr-var-name span {\n",
       "  background-color: var(--xr-background-color-row-even);\n",
       "  margin-bottom: 0;\n",
       "}\n",
       "\n",
       ".xr-var-item > .xr-var-name:hover span {\n",
       "  padding-right: 5px;\n",
       "}\n",
       "\n",
       ".xr-var-list > li:nth-child(odd) > div,\n",
       ".xr-var-list > li:nth-child(odd) > label,\n",
       ".xr-var-list > li:nth-child(odd) > .xr-var-name span {\n",
       "  background-color: var(--xr-background-color-row-odd);\n",
       "}\n",
       "\n",
       ".xr-var-name {\n",
       "  grid-column: 1;\n",
       "}\n",
       "\n",
       ".xr-var-dims {\n",
       "  grid-column: 2;\n",
       "}\n",
       "\n",
       ".xr-var-dtype {\n",
       "  grid-column: 3;\n",
       "  text-align: right;\n",
       "  color: var(--xr-font-color2);\n",
       "}\n",
       "\n",
       ".xr-var-preview {\n",
       "  grid-column: 4;\n",
       "}\n",
       "\n",
       ".xr-index-preview {\n",
       "  grid-column: 2 / 5;\n",
       "  color: var(--xr-font-color2);\n",
       "}\n",
       "\n",
       ".xr-var-name,\n",
       ".xr-var-dims,\n",
       ".xr-var-dtype,\n",
       ".xr-preview,\n",
       ".xr-attrs dt {\n",
       "  white-space: nowrap;\n",
       "  overflow: hidden;\n",
       "  text-overflow: ellipsis;\n",
       "  padding-right: 10px;\n",
       "}\n",
       "\n",
       ".xr-var-name:hover,\n",
       ".xr-var-dims:hover,\n",
       ".xr-var-dtype:hover,\n",
       ".xr-attrs dt:hover {\n",
       "  overflow: visible;\n",
       "  width: auto;\n",
       "  z-index: 1;\n",
       "}\n",
       "\n",
       ".xr-var-attrs,\n",
       ".xr-var-data,\n",
       ".xr-index-data {\n",
       "  display: none;\n",
       "  background-color: var(--xr-background-color) !important;\n",
       "  padding-bottom: 5px !important;\n",
       "}\n",
       "\n",
       ".xr-var-attrs-in:checked ~ .xr-var-attrs,\n",
       ".xr-var-data-in:checked ~ .xr-var-data,\n",
       ".xr-index-data-in:checked ~ .xr-index-data {\n",
       "  display: block;\n",
       "}\n",
       "\n",
       ".xr-var-data > table {\n",
       "  float: right;\n",
       "}\n",
       "\n",
       ".xr-var-name span,\n",
       ".xr-var-data,\n",
       ".xr-index-name div,\n",
       ".xr-index-data,\n",
       ".xr-attrs {\n",
       "  padding-left: 25px !important;\n",
       "}\n",
       "\n",
       ".xr-attrs,\n",
       ".xr-var-attrs,\n",
       ".xr-var-data,\n",
       ".xr-index-data {\n",
       "  grid-column: 1 / -1;\n",
       "}\n",
       "\n",
       "dl.xr-attrs {\n",
       "  padding: 0;\n",
       "  margin: 0;\n",
       "  display: grid;\n",
       "  grid-template-columns: 125px auto;\n",
       "}\n",
       "\n",
       ".xr-attrs dt,\n",
       ".xr-attrs dd {\n",
       "  padding: 0;\n",
       "  margin: 0;\n",
       "  float: left;\n",
       "  padding-right: 10px;\n",
       "  width: auto;\n",
       "}\n",
       "\n",
       ".xr-attrs dt {\n",
       "  font-weight: normal;\n",
       "  grid-column: 1;\n",
       "}\n",
       "\n",
       ".xr-attrs dt:hover span {\n",
       "  display: inline-block;\n",
       "  background: var(--xr-background-color);\n",
       "  padding-right: 10px;\n",
       "}\n",
       "\n",
       ".xr-attrs dd {\n",
       "  grid-column: 2;\n",
       "  white-space: pre-wrap;\n",
       "  word-break: break-all;\n",
       "}\n",
       "\n",
       ".xr-icon-database,\n",
       ".xr-icon-file-text2,\n",
       ".xr-no-icon {\n",
       "  display: inline-block;\n",
       "  vertical-align: middle;\n",
       "  width: 1em;\n",
       "  height: 1.5em !important;\n",
       "  stroke-width: 0;\n",
       "  stroke: currentColor;\n",
       "  fill: currentColor;\n",
       "}\n",
       "</style><pre class='xr-text-repr-fallback'>&lt;xarray.Dataset&gt;\n",
       "Dimensions:       (nlayers: 4, ncol0: 3, nrow0: 17, ncol1: 17, nrow1: 27,\n",
       "                   ncol2: 27, nrow2: 5)\n",
       "Dimensions without coordinates: nlayers, ncol0, nrow0, ncol1, nrow1, ncol2,\n",
       "                                nrow2\n",
       "Data variables:\n",
       "    num_layers    int32 ...\n",
       "    layer_sizes   (nlayers) int32 ...\n",
       "    A0            (ncol0, nrow0) float32 ...\n",
       "    b0            (nrow0) float32 ...\n",
       "    A1            (ncol1, nrow1) float32 ...\n",
       "    b1            (nrow1) float32 ...\n",
       "    A2            (ncol2, nrow2) float32 ...\n",
       "    b2            (nrow2) float32 ...\n",
       "    x_test        (ncol0) float32 ...\n",
       "    y_test        (nrow2) float32 ...\n",
       "    input_norms   (ncol0) float32 ...\n",
       "    output_norms  (nrow2) float32 ...</pre><div class='xr-wrap' style='display:none'><div class='xr-header'><div class='xr-obj-type'>xarray.Dataset</div></div><ul class='xr-sections'><li class='xr-section-item'><input id='section-cce5d181-8fdc-4457-b4b5-229e0a6d9a91' class='xr-section-summary-in' type='checkbox' disabled ><label for='section-cce5d181-8fdc-4457-b4b5-229e0a6d9a91' class='xr-section-summary'  title='Expand/collapse section'>Dimensions:</label><div class='xr-section-inline-details'><ul class='xr-dim-list'><li><span>nlayers</span>: 4</li><li><span>ncol0</span>: 3</li><li><span>nrow0</span>: 17</li><li><span>ncol1</span>: 17</li><li><span>nrow1</span>: 27</li><li><span>ncol2</span>: 27</li><li><span>nrow2</span>: 5</li></ul></div><div class='xr-section-details'></div></li><li class='xr-section-item'><input id='section-d133029b-020c-4f99-bcea-4f890e4eb083' class='xr-section-summary-in' type='checkbox' disabled ><label for='section-d133029b-020c-4f99-bcea-4f890e4eb083' class='xr-section-summary'  title='Expand/collapse section'>Coordinates: <span>(0)</span></label><div class='xr-section-inline-details'></div><div class='xr-section-details'><ul class='xr-var-list'></ul></div></li><li class='xr-section-item'><input id='section-f528d74a-31b2-4588-9b11-5427c034d1f7' class='xr-section-summary-in' type='checkbox'  checked><label for='section-f528d74a-31b2-4588-9b11-5427c034d1f7' class='xr-section-summary' >Data variables: <span>(12)</span></label><div class='xr-section-inline-details'></div><div class='xr-section-details'><ul class='xr-var-list'><li class='xr-var-item'><div class='xr-var-name'><span>num_layers</span></div><div class='xr-var-dims'>()</div><div class='xr-var-dtype'>int32</div><div class='xr-var-preview xr-preview'>...</div><input id='attrs-94e407a9-402d-40f0-a151-4555528dc50c' class='xr-var-attrs-in' type='checkbox' disabled><label for='attrs-94e407a9-402d-40f0-a151-4555528dc50c' title='Show/Hide attributes'><svg class='icon xr-icon-file-text2'><use xlink:href='#icon-file-text2'></use></svg></label><input id='data-bf0f9ee2-adb8-4ad0-bdf0-990711074fc8' class='xr-var-data-in' type='checkbox'><label for='data-bf0f9ee2-adb8-4ad0-bdf0-990711074fc8' title='Show/Hide data repr'><svg class='icon xr-icon-database'><use xlink:href='#icon-database'></use></svg></label><div class='xr-var-attrs'><dl class='xr-attrs'></dl></div><div class='xr-var-data'><pre>[1 values with dtype=int32]</pre></div></li><li class='xr-var-item'><div class='xr-var-name'><span>layer_sizes</span></div><div class='xr-var-dims'>(nlayers)</div><div class='xr-var-dtype'>int32</div><div class='xr-var-preview xr-preview'>...</div><input id='attrs-a345a11b-23e9-409e-8f68-de1911de8d88' class='xr-var-attrs-in' type='checkbox' disabled><label for='attrs-a345a11b-23e9-409e-8f68-de1911de8d88' title='Show/Hide attributes'><svg class='icon xr-icon-file-text2'><use xlink:href='#icon-file-text2'></use></svg></label><input id='data-c7af82ac-269b-4d4e-9ae1-3e10a4319dba' class='xr-var-data-in' type='checkbox'><label for='data-c7af82ac-269b-4d4e-9ae1-3e10a4319dba' title='Show/Hide data repr'><svg class='icon xr-icon-database'><use xlink:href='#icon-database'></use></svg></label><div class='xr-var-attrs'><dl class='xr-attrs'></dl></div><div class='xr-var-data'><pre>[4 values with dtype=int32]</pre></div></li><li class='xr-var-item'><div class='xr-var-name'><span>A0</span></div><div class='xr-var-dims'>(ncol0, nrow0)</div><div class='xr-var-dtype'>float32</div><div class='xr-var-preview xr-preview'>...</div><input id='attrs-ceb2a572-59ed-495c-951f-1f1f64911999' class='xr-var-attrs-in' type='checkbox' disabled><label for='attrs-ceb2a572-59ed-495c-951f-1f1f64911999' title='Show/Hide attributes'><svg class='icon xr-icon-file-text2'><use xlink:href='#icon-file-text2'></use></svg></label><input id='data-450731cc-dac2-4e1c-9195-fb42b1955571' class='xr-var-data-in' type='checkbox'><label for='data-450731cc-dac2-4e1c-9195-fb42b1955571' title='Show/Hide data repr'><svg class='icon xr-icon-database'><use xlink:href='#icon-database'></use></svg></label><div class='xr-var-attrs'><dl class='xr-attrs'></dl></div><div class='xr-var-data'><pre>[51 values with dtype=float32]</pre></div></li><li class='xr-var-item'><div class='xr-var-name'><span>b0</span></div><div class='xr-var-dims'>(nrow0)</div><div class='xr-var-dtype'>float32</div><div class='xr-var-preview xr-preview'>...</div><input id='attrs-05ac9912-dc4c-4e05-aa30-9c40e7875080' class='xr-var-attrs-in' type='checkbox' disabled><label for='attrs-05ac9912-dc4c-4e05-aa30-9c40e7875080' title='Show/Hide attributes'><svg class='icon xr-icon-file-text2'><use xlink:href='#icon-file-text2'></use></svg></label><input id='data-ce58d0ea-4d71-4b52-9024-72bdee903f1d' class='xr-var-data-in' type='checkbox'><label for='data-ce58d0ea-4d71-4b52-9024-72bdee903f1d' title='Show/Hide data repr'><svg class='icon xr-icon-database'><use xlink:href='#icon-database'></use></svg></label><div class='xr-var-attrs'><dl class='xr-attrs'></dl></div><div class='xr-var-data'><pre>[17 values with dtype=float32]</pre></div></li><li class='xr-var-item'><div class='xr-var-name'><span>A1</span></div><div class='xr-var-dims'>(ncol1, nrow1)</div><div class='xr-var-dtype'>float32</div><div class='xr-var-preview xr-preview'>...</div><input id='attrs-1e7d344d-5650-4b52-b9e9-cde31e12d86a' class='xr-var-attrs-in' type='checkbox' disabled><label for='attrs-1e7d344d-5650-4b52-b9e9-cde31e12d86a' title='Show/Hide attributes'><svg class='icon xr-icon-file-text2'><use xlink:href='#icon-file-text2'></use></svg></label><input id='data-35a8b3f9-0dc5-4c05-96d4-d21421fc069d' class='xr-var-data-in' type='checkbox'><label for='data-35a8b3f9-0dc5-4c05-96d4-d21421fc069d' title='Show/Hide data repr'><svg class='icon xr-icon-database'><use xlink:href='#icon-database'></use></svg></label><div class='xr-var-attrs'><dl class='xr-attrs'></dl></div><div class='xr-var-data'><pre>[459 values with dtype=float32]</pre></div></li><li class='xr-var-item'><div class='xr-var-name'><span>b1</span></div><div class='xr-var-dims'>(nrow1)</div><div class='xr-var-dtype'>float32</div><div class='xr-var-preview xr-preview'>...</div><input id='attrs-a17654e9-69d4-4455-b353-cda62b143bdf' class='xr-var-attrs-in' type='checkbox' disabled><label for='attrs-a17654e9-69d4-4455-b353-cda62b143bdf' title='Show/Hide attributes'><svg class='icon xr-icon-file-text2'><use xlink:href='#icon-file-text2'></use></svg></label><input id='data-5463f940-cd3f-409a-b4f0-1058aba4eff1' class='xr-var-data-in' type='checkbox'><label for='data-5463f940-cd3f-409a-b4f0-1058aba4eff1' title='Show/Hide data repr'><svg class='icon xr-icon-database'><use xlink:href='#icon-database'></use></svg></label><div class='xr-var-attrs'><dl class='xr-attrs'></dl></div><div class='xr-var-data'><pre>[27 values with dtype=float32]</pre></div></li><li class='xr-var-item'><div class='xr-var-name'><span>A2</span></div><div class='xr-var-dims'>(ncol2, nrow2)</div><div class='xr-var-dtype'>float32</div><div class='xr-var-preview xr-preview'>...</div><input id='attrs-ca68fa38-5db1-47f5-88a5-8b511ebc0e17' class='xr-var-attrs-in' type='checkbox' disabled><label for='attrs-ca68fa38-5db1-47f5-88a5-8b511ebc0e17' title='Show/Hide attributes'><svg class='icon xr-icon-file-text2'><use xlink:href='#icon-file-text2'></use></svg></label><input id='data-d57981f0-85e0-456b-9833-12fe525d6992' class='xr-var-data-in' type='checkbox'><label for='data-d57981f0-85e0-456b-9833-12fe525d6992' title='Show/Hide data repr'><svg class='icon xr-icon-database'><use xlink:href='#icon-database'></use></svg></label><div class='xr-var-attrs'><dl class='xr-attrs'></dl></div><div class='xr-var-data'><pre>[135 values with dtype=float32]</pre></div></li><li class='xr-var-item'><div class='xr-var-name'><span>b2</span></div><div class='xr-var-dims'>(nrow2)</div><div class='xr-var-dtype'>float32</div><div class='xr-var-preview xr-preview'>...</div><input id='attrs-6508af54-8183-4007-b0d3-75433a1ba445' class='xr-var-attrs-in' type='checkbox' disabled><label for='attrs-6508af54-8183-4007-b0d3-75433a1ba445' title='Show/Hide attributes'><svg class='icon xr-icon-file-text2'><use xlink:href='#icon-file-text2'></use></svg></label><input id='data-cc2e8bf0-0e3c-4f35-a1d9-5d16ff902fd1' class='xr-var-data-in' type='checkbox'><label for='data-cc2e8bf0-0e3c-4f35-a1d9-5d16ff902fd1' title='Show/Hide data repr'><svg class='icon xr-icon-database'><use xlink:href='#icon-database'></use></svg></label><div class='xr-var-attrs'><dl class='xr-attrs'></dl></div><div class='xr-var-data'><pre>[5 values with dtype=float32]</pre></div></li><li class='xr-var-item'><div class='xr-var-name'><span>x_test</span></div><div class='xr-var-dims'>(ncol0)</div><div class='xr-var-dtype'>float32</div><div class='xr-var-preview xr-preview'>...</div><input id='attrs-c4040b87-f175-448f-b325-d235296751cc' class='xr-var-attrs-in' type='checkbox' disabled><label for='attrs-c4040b87-f175-448f-b325-d235296751cc' title='Show/Hide attributes'><svg class='icon xr-icon-file-text2'><use xlink:href='#icon-file-text2'></use></svg></label><input id='data-1d51fd17-b8d0-41d3-a051-2594e9536416' class='xr-var-data-in' type='checkbox'><label for='data-1d51fd17-b8d0-41d3-a051-2594e9536416' title='Show/Hide data repr'><svg class='icon xr-icon-database'><use xlink:href='#icon-database'></use></svg></label><div class='xr-var-attrs'><dl class='xr-attrs'></dl></div><div class='xr-var-data'><pre>[3 values with dtype=float32]</pre></div></li><li class='xr-var-item'><div class='xr-var-name'><span>y_test</span></div><div class='xr-var-dims'>(nrow2)</div><div class='xr-var-dtype'>float32</div><div class='xr-var-preview xr-preview'>...</div><input id='attrs-fcc26c7b-b621-48b4-9cd1-fc9158a1e9e2' class='xr-var-attrs-in' type='checkbox' disabled><label for='attrs-fcc26c7b-b621-48b4-9cd1-fc9158a1e9e2' title='Show/Hide attributes'><svg class='icon xr-icon-file-text2'><use xlink:href='#icon-file-text2'></use></svg></label><input id='data-1c90609c-f570-4dcb-a151-3a4ab9aa2b20' class='xr-var-data-in' type='checkbox'><label for='data-1c90609c-f570-4dcb-a151-3a4ab9aa2b20' title='Show/Hide data repr'><svg class='icon xr-icon-database'><use xlink:href='#icon-database'></use></svg></label><div class='xr-var-attrs'><dl class='xr-attrs'></dl></div><div class='xr-var-data'><pre>[5 values with dtype=float32]</pre></div></li><li class='xr-var-item'><div class='xr-var-name'><span>input_norms</span></div><div class='xr-var-dims'>(ncol0)</div><div class='xr-var-dtype'>float32</div><div class='xr-var-preview xr-preview'>...</div><input id='attrs-1badcb45-2d97-49b1-8095-b67953d0c3b6' class='xr-var-attrs-in' type='checkbox' disabled><label for='attrs-1badcb45-2d97-49b1-8095-b67953d0c3b6' title='Show/Hide attributes'><svg class='icon xr-icon-file-text2'><use xlink:href='#icon-file-text2'></use></svg></label><input id='data-7405a115-30e2-4bc3-81e3-636af1331b63' class='xr-var-data-in' type='checkbox'><label for='data-7405a115-30e2-4bc3-81e3-636af1331b63' title='Show/Hide data repr'><svg class='icon xr-icon-database'><use xlink:href='#icon-database'></use></svg></label><div class='xr-var-attrs'><dl class='xr-attrs'></dl></div><div class='xr-var-data'><pre>[3 values with dtype=float32]</pre></div></li><li class='xr-var-item'><div class='xr-var-name'><span>output_norms</span></div><div class='xr-var-dims'>(nrow2)</div><div class='xr-var-dtype'>float32</div><div class='xr-var-preview xr-preview'>...</div><input id='attrs-8ac34f39-7c1b-4f2a-9c11-4f6f12dc9121' class='xr-var-attrs-in' type='checkbox' disabled><label for='attrs-8ac34f39-7c1b-4f2a-9c11-4f6f12dc9121' title='Show/Hide attributes'><svg class='icon xr-icon-file-text2'><use xlink:href='#icon-file-text2'></use></svg></label><input id='data-299599fb-6dd1-449e-bd7a-c1f099c582b9' class='xr-var-data-in' type='checkbox'><label for='data-299599fb-6dd1-449e-bd7a-c1f099c582b9' title='Show/Hide data repr'><svg class='icon xr-icon-database'><use xlink:href='#icon-database'></use></svg></label><div class='xr-var-attrs'><dl class='xr-attrs'></dl></div><div class='xr-var-data'><pre>[5 values with dtype=float32]</pre></div></li></ul></div></li><li class='xr-section-item'><input id='section-8a3f0081-c136-48ae-bda4-9ec926ad2d23' class='xr-section-summary-in' type='checkbox' disabled ><label for='section-8a3f0081-c136-48ae-bda4-9ec926ad2d23' class='xr-section-summary'  title='Expand/collapse section'>Indexes: <span>(0)</span></label><div class='xr-section-inline-details'></div><div class='xr-section-details'><ul class='xr-var-list'></ul></div></li><li class='xr-section-item'><input id='section-871ebce2-78f6-4f18-ba22-4234e9af66ca' class='xr-section-summary-in' type='checkbox' disabled ><label for='section-871ebce2-78f6-4f18-ba22-4234e9af66ca' class='xr-section-summary'  title='Expand/collapse section'>Attributes: <span>(0)</span></label><div class='xr-section-inline-details'></div><div class='xr-section-details'><dl class='xr-attrs'></dl></div></li></ul></div></div>"
      ],
      "text/plain": [
       "<xarray.Dataset>\n",
       "Dimensions:       (nlayers: 4, ncol0: 3, nrow0: 17, ncol1: 17, nrow1: 27,\n",
       "                   ncol2: 27, nrow2: 5)\n",
       "Dimensions without coordinates: nlayers, ncol0, nrow0, ncol1, nrow1, ncol2,\n",
       "                                nrow2\n",
       "Data variables:\n",
       "    num_layers    int32 ...\n",
       "    layer_sizes   (nlayers) int32 ...\n",
       "    A0            (ncol0, nrow0) float32 ...\n",
       "    b0            (nrow0) float32 ...\n",
       "    A1            (ncol1, nrow1) float32 ...\n",
       "    b1            (nrow1) float32 ...\n",
       "    A2            (ncol2, nrow2) float32 ...\n",
       "    b2            (nrow2) float32 ...\n",
       "    x_test        (ncol0) float32 ...\n",
       "    y_test        (nrow2) float32 ...\n",
       "    input_norms   (ncol0) float32 ...\n",
       "    output_norms  (nrow2) float32 ..."
      ]
     },
     "execution_count": 391,
     "metadata": {},
     "output_type": "execute_result"
    }
   ],
   "source": [
    "xr.open_dataset('/scratch/pp2681/mom6/regression_tests/R4/ANN_test.nc')"
   ]
  }
 ],
 "metadata": {
  "kernelspec": {
   "display_name": "environment_13_Jul_2023",
   "language": "python",
   "name": "my_env"
  },
  "language_info": {
   "codemirror_mode": {
    "name": "ipython",
    "version": 3
   },
   "file_extension": ".py",
   "mimetype": "text/x-python",
   "name": "python",
   "nbconvert_exporter": "python",
   "pygments_lexer": "ipython3",
   "version": "3.11.4"
  }
 },
 "nbformat": 4,
 "nbformat_minor": 4
}
